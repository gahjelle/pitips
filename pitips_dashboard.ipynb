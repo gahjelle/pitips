{
 "cells": [
  {
   "cell_type": "markdown",
   "metadata": {},
   "source": [
    "# π-tips\n",
    "\n",
    "Calculate tips in multiples of π"
   ]
  },
  {
   "cell_type": "code",
   "execution_count": null,
   "metadata": {},
   "outputs": [],
   "source": [
    "from datetime import date\n",
    "import math\n",
    "\n",
    "from IPython.display import display, Markdown\n",
    "import ipywidgets"
   ]
  },
  {
   "cell_type": "code",
   "execution_count": null,
   "metadata": {},
   "outputs": [],
   "source": [
    "# Useful (almost) constants\n",
    "PI = math.pi\n",
    "PI_STR = \"π\"\n",
    "BONUS = 0"
   ]
  },
  {
   "cell_type": "code",
   "execution_count": null,
   "metadata": {},
   "outputs": [],
   "source": [
    "# Today's date is used for some customizations for π-day etc\n",
    "today = date.today()\n",
    "today_date = (today.month, today.day)\n",
    "\n",
    "# Use an approximate value for π on approximate π-day (22/7 = 3.1428571...)\n",
    "if today_date == (7, 22):\n",
    "    PI = 3\n",
    "    \n",
    "# Use τ instead of π on τ-day\n",
    "if today_date == (6, 28):\n",
    "    PI = 2 * math.pi\n",
    "    PI_STR = \"τ\"\n",
    "    \n",
    "# Add an extra π as bonus on π-day\n",
    "if today_date == (3, 14):\n",
    "    BONUS = PI"
   ]
  },
  {
   "cell_type": "code",
   "execution_count": null,
   "metadata": {},
   "outputs": [],
   "source": [
    "percentage = ipywidgets.IntSlider(min=0, max=30 ,value=18, continuous_update=True, readout_format=\".2f\")\n",
    "bill = ipywidgets.Text(description=\"Check w/o tip\", value=\"20.00\")"
   ]
  },
  {
   "cell_type": "code",
   "execution_count": null,
   "metadata": {},
   "outputs": [],
   "source": [
    "@ipywidgets.interact(Bill=bill, Percentage=percentage)\n",
    "def calculate_tip(Bill, Percentage):\n",
    "    try:\n",
    "        Bill = float(Bill)\n",
    "    except ValueError:\n",
    "        Bill = 0\n",
    "        \n",
    "    tip_pi = round((Bill + BONUS) / PI * Percentage / 100)\n",
    "    tip = tip_pi * PI\n",
    "    tip_percent = 100 * tip / max(1, Bill)\n",
    "    display(Markdown(f\"You may tip {tip_pi}{PI_STR} or {tip:.2f} ({tip_percent:.1f}%). This brings your total up to {Bill + tip:.2f}\"))"
   ]
  }
 ],
 "metadata": {
  "kernelspec": {
   "display_name": "Python 3",
   "language": "python",
   "name": "python3"
  },
  "language_info": {
   "codemirror_mode": {
    "name": "ipython",
    "version": 3
   },
   "file_extension": ".py",
   "mimetype": "text/x-python",
   "name": "python",
   "nbconvert_exporter": "python",
   "pygments_lexer": "ipython3",
   "version": "3.7.3"
  }
 },
 "nbformat": 4,
 "nbformat_minor": 2
}
